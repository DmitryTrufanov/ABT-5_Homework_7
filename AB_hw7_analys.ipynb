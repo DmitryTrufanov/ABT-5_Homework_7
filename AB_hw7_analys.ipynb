{
 "cells": [
  {
   "cell_type": "markdown",
   "metadata": {},
   "source": [
    "Допустим, вы ввели три фичи:  \n",
    "\n",
    "1.Понижение коэффициента surge, чтобы увеличить price-to-order конверсию (по время surge)  \n",
    "Ожидаем: выше price-to-order конверсия во время surge  \n",
    "2.Если юзер Android нажимает “отменить”, предлагать промокод в случае НЕ отмены  \n",
    "Ожидаем: ниже отмены на Android устройствах  \n",
    "3.При уточнении, уверен ли юзер в отмене заказа не из центра, добавить эмодзи котика, просящего не отменять  \n",
    "Ожидаем: ниже отмены по заказам НЕ из центра  \n",
    "    \n",
    "Используя новые данные, постройте следующие графики для А/Б теста по любой из трех фичей выше (!сплит уже произведен!):  \n",
    "  - Кумулятивного p-value (разбейте общее количество наблюдений на 7 участков)  \n",
    "  - Периодического p-value (по дням)  \n",
    "На основе графиков сделайте вывод о значимости результатов"
   ]
  },
  {
   "cell_type": "code",
   "execution_count": 1,
   "metadata": {},
   "outputs": [],
   "source": [
    "import pandas as pd\n",
    "from scipy.stats import mannwhitneyu\n",
    "import matplotlib.pyplot as plt"
   ]
  },
  {
   "cell_type": "code",
   "execution_count": 2,
   "metadata": {},
   "outputs": [
    {
     "data": {
      "text/html": [
       "<div>\n",
       "<style scoped>\n",
       "    .dataframe tbody tr th:only-of-type {\n",
       "        vertical-align: middle;\n",
       "    }\n",
       "\n",
       "    .dataframe tbody tr th {\n",
       "        vertical-align: top;\n",
       "    }\n",
       "\n",
       "    .dataframe thead th {\n",
       "        text-align: right;\n",
       "    }\n",
       "</style>\n",
       "<table border=\"1\" class=\"dataframe\">\n",
       "  <thead>\n",
       "    <tr style=\"text-align: right;\">\n",
       "      <th></th>\n",
       "      <th>user_id</th>\n",
       "      <th>date</th>\n",
       "      <th>app_opened</th>\n",
       "      <th>group</th>\n",
       "      <th>price_seen</th>\n",
       "      <th>order_made</th>\n",
       "      <th>surge</th>\n",
       "      <th>os</th>\n",
       "      <th>user_cancelled</th>\n",
       "      <th>city_center_order</th>\n",
       "      <th>groups</th>\n",
       "    </tr>\n",
       "  </thead>\n",
       "  <tbody>\n",
       "    <tr>\n",
       "      <th>0</th>\n",
       "      <td>867689</td>\n",
       "      <td>2020-05-28</td>\n",
       "      <td>1</td>\n",
       "      <td>Control</td>\n",
       "      <td>1</td>\n",
       "      <td>1</td>\n",
       "      <td>no surge</td>\n",
       "      <td>Android</td>\n",
       "      <td>0.0</td>\n",
       "      <td>1.0</td>\n",
       "      <td>Control</td>\n",
       "    </tr>\n",
       "    <tr>\n",
       "      <th>1</th>\n",
       "      <td>867689</td>\n",
       "      <td>2020-05-29</td>\n",
       "      <td>1</td>\n",
       "      <td>Control</td>\n",
       "      <td>1</td>\n",
       "      <td>0</td>\n",
       "      <td>surge</td>\n",
       "      <td>iOS</td>\n",
       "      <td>NaN</td>\n",
       "      <td>NaN</td>\n",
       "      <td>Control</td>\n",
       "    </tr>\n",
       "    <tr>\n",
       "      <th>2</th>\n",
       "      <td>867689</td>\n",
       "      <td>2020-05-25</td>\n",
       "      <td>1</td>\n",
       "      <td>Control</td>\n",
       "      <td>1</td>\n",
       "      <td>1</td>\n",
       "      <td>surge</td>\n",
       "      <td>Android</td>\n",
       "      <td>0.0</td>\n",
       "      <td>0.0</td>\n",
       "      <td>Control</td>\n",
       "    </tr>\n",
       "    <tr>\n",
       "      <th>3</th>\n",
       "      <td>752172</td>\n",
       "      <td>2020-05-29</td>\n",
       "      <td>1</td>\n",
       "      <td>Control</td>\n",
       "      <td>1</td>\n",
       "      <td>1</td>\n",
       "      <td>surge</td>\n",
       "      <td>Android</td>\n",
       "      <td>0.0</td>\n",
       "      <td>1.0</td>\n",
       "      <td>Control</td>\n",
       "    </tr>\n",
       "    <tr>\n",
       "      <th>4</th>\n",
       "      <td>752172</td>\n",
       "      <td>2020-05-28</td>\n",
       "      <td>1</td>\n",
       "      <td>Control</td>\n",
       "      <td>1</td>\n",
       "      <td>1</td>\n",
       "      <td>no surge</td>\n",
       "      <td>iOS</td>\n",
       "      <td>0.0</td>\n",
       "      <td>0.0</td>\n",
       "      <td>Control</td>\n",
       "    </tr>\n",
       "    <tr>\n",
       "      <th>...</th>\n",
       "      <td>...</td>\n",
       "      <td>...</td>\n",
       "      <td>...</td>\n",
       "      <td>...</td>\n",
       "      <td>...</td>\n",
       "      <td>...</td>\n",
       "      <td>...</td>\n",
       "      <td>...</td>\n",
       "      <td>...</td>\n",
       "      <td>...</td>\n",
       "      <td>...</td>\n",
       "    </tr>\n",
       "    <tr>\n",
       "      <th>101495</th>\n",
       "      <td>777065</td>\n",
       "      <td>2020-05-25</td>\n",
       "      <td>1</td>\n",
       "      <td>Control</td>\n",
       "      <td>1</td>\n",
       "      <td>0</td>\n",
       "      <td>no surge</td>\n",
       "      <td>Android</td>\n",
       "      <td>NaN</td>\n",
       "      <td>NaN</td>\n",
       "      <td>Control</td>\n",
       "    </tr>\n",
       "    <tr>\n",
       "      <th>101496</th>\n",
       "      <td>340213</td>\n",
       "      <td>2020-05-28</td>\n",
       "      <td>1</td>\n",
       "      <td>Control</td>\n",
       "      <td>1</td>\n",
       "      <td>1</td>\n",
       "      <td>no surge</td>\n",
       "      <td>iOS</td>\n",
       "      <td>0.0</td>\n",
       "      <td>1.0</td>\n",
       "      <td>Control</td>\n",
       "    </tr>\n",
       "    <tr>\n",
       "      <th>101497</th>\n",
       "      <td>352605</td>\n",
       "      <td>2020-05-26</td>\n",
       "      <td>1</td>\n",
       "      <td>Test</td>\n",
       "      <td>1</td>\n",
       "      <td>1</td>\n",
       "      <td>no surge</td>\n",
       "      <td>Android</td>\n",
       "      <td>0.0</td>\n",
       "      <td>1.0</td>\n",
       "      <td>Test</td>\n",
       "    </tr>\n",
       "    <tr>\n",
       "      <th>101498</th>\n",
       "      <td>216082</td>\n",
       "      <td>2020-05-26</td>\n",
       "      <td>1</td>\n",
       "      <td>Control</td>\n",
       "      <td>1</td>\n",
       "      <td>0</td>\n",
       "      <td>surge</td>\n",
       "      <td>Android</td>\n",
       "      <td>NaN</td>\n",
       "      <td>NaN</td>\n",
       "      <td>Control</td>\n",
       "    </tr>\n",
       "    <tr>\n",
       "      <th>101499</th>\n",
       "      <td>811817</td>\n",
       "      <td>2020-05-28</td>\n",
       "      <td>1</td>\n",
       "      <td>Test</td>\n",
       "      <td>1</td>\n",
       "      <td>1</td>\n",
       "      <td>no surge</td>\n",
       "      <td>Android</td>\n",
       "      <td>0.0</td>\n",
       "      <td>1.0</td>\n",
       "      <td>Test</td>\n",
       "    </tr>\n",
       "  </tbody>\n",
       "</table>\n",
       "<p>101500 rows × 11 columns</p>\n",
       "</div>"
      ],
      "text/plain": [
       "        user_id        date  app_opened    group  price_seen  order_made  \\\n",
       "0        867689  2020-05-28           1  Control           1           1   \n",
       "1        867689  2020-05-29           1  Control           1           0   \n",
       "2        867689  2020-05-25           1  Control           1           1   \n",
       "3        752172  2020-05-29           1  Control           1           1   \n",
       "4        752172  2020-05-28           1  Control           1           1   \n",
       "...         ...         ...         ...      ...         ...         ...   \n",
       "101495   777065  2020-05-25           1  Control           1           0   \n",
       "101496   340213  2020-05-28           1  Control           1           1   \n",
       "101497   352605  2020-05-26           1     Test           1           1   \n",
       "101498   216082  2020-05-26           1  Control           1           0   \n",
       "101499   811817  2020-05-28           1     Test           1           1   \n",
       "\n",
       "           surge       os  user_cancelled  city_center_order   groups  \n",
       "0       no surge  Android             0.0                1.0  Control  \n",
       "1          surge      iOS             NaN                NaN  Control  \n",
       "2          surge  Android             0.0                0.0  Control  \n",
       "3          surge  Android             0.0                1.0  Control  \n",
       "4       no surge      iOS             0.0                0.0  Control  \n",
       "...          ...      ...             ...                ...      ...  \n",
       "101495  no surge  Android             NaN                NaN  Control  \n",
       "101496  no surge      iOS             0.0                1.0  Control  \n",
       "101497  no surge  Android             0.0                1.0     Test  \n",
       "101498     surge  Android             NaN                NaN  Control  \n",
       "101499  no surge  Android             0.0                1.0     Test  \n",
       "\n",
       "[101500 rows x 11 columns]"
      ]
     },
     "execution_count": 2,
     "metadata": {},
     "output_type": "execute_result"
    }
   ],
   "source": [
    "df = pd.read_csv('post_abtest_data.csv')\n",
    "df"
   ]
  },
  {
   "cell_type": "code",
   "execution_count": 3,
   "metadata": {},
   "outputs": [
    {
     "data": {
      "text/html": [
       "<div>\n",
       "<style scoped>\n",
       "    .dataframe tbody tr th:only-of-type {\n",
       "        vertical-align: middle;\n",
       "    }\n",
       "\n",
       "    .dataframe tbody tr th {\n",
       "        vertical-align: top;\n",
       "    }\n",
       "\n",
       "    .dataframe thead th {\n",
       "        text-align: right;\n",
       "    }\n",
       "</style>\n",
       "<table border=\"1\" class=\"dataframe\">\n",
       "  <thead>\n",
       "    <tr style=\"text-align: right;\">\n",
       "      <th></th>\n",
       "      <th>user_id</th>\n",
       "      <th>app_opened</th>\n",
       "      <th>price_seen</th>\n",
       "      <th>order_made</th>\n",
       "      <th>user_cancelled</th>\n",
       "      <th>city_center_order</th>\n",
       "    </tr>\n",
       "  </thead>\n",
       "  <tbody>\n",
       "    <tr>\n",
       "      <th>count</th>\n",
       "      <td>101500.000000</td>\n",
       "      <td>101500.0</td>\n",
       "      <td>101500.000000</td>\n",
       "      <td>101500.000000</td>\n",
       "      <td>70157.000000</td>\n",
       "      <td>70157.000000</td>\n",
       "    </tr>\n",
       "    <tr>\n",
       "      <th>mean</th>\n",
       "      <td>549874.802207</td>\n",
       "      <td>1.0</td>\n",
       "      <td>0.909931</td>\n",
       "      <td>0.691202</td>\n",
       "      <td>0.142994</td>\n",
       "      <td>0.436991</td>\n",
       "    </tr>\n",
       "    <tr>\n",
       "      <th>std</th>\n",
       "      <td>258600.104176</td>\n",
       "      <td>0.0</td>\n",
       "      <td>0.286282</td>\n",
       "      <td>0.462000</td>\n",
       "      <td>0.350069</td>\n",
       "      <td>0.496018</td>\n",
       "    </tr>\n",
       "    <tr>\n",
       "      <th>min</th>\n",
       "      <td>100093.000000</td>\n",
       "      <td>1.0</td>\n",
       "      <td>0.000000</td>\n",
       "      <td>0.000000</td>\n",
       "      <td>0.000000</td>\n",
       "      <td>0.000000</td>\n",
       "    </tr>\n",
       "    <tr>\n",
       "      <th>25%</th>\n",
       "      <td>328223.000000</td>\n",
       "      <td>1.0</td>\n",
       "      <td>1.000000</td>\n",
       "      <td>0.000000</td>\n",
       "      <td>0.000000</td>\n",
       "      <td>0.000000</td>\n",
       "    </tr>\n",
       "    <tr>\n",
       "      <th>50%</th>\n",
       "      <td>548827.000000</td>\n",
       "      <td>1.0</td>\n",
       "      <td>1.000000</td>\n",
       "      <td>1.000000</td>\n",
       "      <td>0.000000</td>\n",
       "      <td>0.000000</td>\n",
       "    </tr>\n",
       "    <tr>\n",
       "      <th>75%</th>\n",
       "      <td>773051.000000</td>\n",
       "      <td>1.0</td>\n",
       "      <td>1.000000</td>\n",
       "      <td>1.000000</td>\n",
       "      <td>0.000000</td>\n",
       "      <td>1.000000</td>\n",
       "    </tr>\n",
       "    <tr>\n",
       "      <th>max</th>\n",
       "      <td>999978.000000</td>\n",
       "      <td>1.0</td>\n",
       "      <td>1.000000</td>\n",
       "      <td>1.000000</td>\n",
       "      <td>1.000000</td>\n",
       "      <td>1.000000</td>\n",
       "    </tr>\n",
       "  </tbody>\n",
       "</table>\n",
       "</div>"
      ],
      "text/plain": [
       "             user_id  app_opened     price_seen     order_made  \\\n",
       "count  101500.000000    101500.0  101500.000000  101500.000000   \n",
       "mean   549874.802207         1.0       0.909931       0.691202   \n",
       "std    258600.104176         0.0       0.286282       0.462000   \n",
       "min    100093.000000         1.0       0.000000       0.000000   \n",
       "25%    328223.000000         1.0       1.000000       0.000000   \n",
       "50%    548827.000000         1.0       1.000000       1.000000   \n",
       "75%    773051.000000         1.0       1.000000       1.000000   \n",
       "max    999978.000000         1.0       1.000000       1.000000   \n",
       "\n",
       "       user_cancelled  city_center_order  \n",
       "count    70157.000000       70157.000000  \n",
       "mean         0.142994           0.436991  \n",
       "std          0.350069           0.496018  \n",
       "min          0.000000           0.000000  \n",
       "25%          0.000000           0.000000  \n",
       "50%          0.000000           0.000000  \n",
       "75%          0.000000           1.000000  \n",
       "max          1.000000           1.000000  "
      ]
     },
     "execution_count": 3,
     "metadata": {},
     "output_type": "execute_result"
    }
   ],
   "source": [
    "df.describe()"
   ]
  },
  {
   "cell_type": "code",
   "execution_count": 4,
   "metadata": {},
   "outputs": [
    {
     "data": {
      "text/plain": [
       "array(['Control', 'Test'], dtype=object)"
      ]
     },
     "execution_count": 4,
     "metadata": {},
     "output_type": "execute_result"
    }
   ],
   "source": [
    "df['group'].unique()"
   ]
  },
  {
   "cell_type": "code",
   "execution_count": 5,
   "metadata": {},
   "outputs": [
    {
     "data": {
      "text/plain": [
       "array(['Control', 'Test'], dtype=object)"
      ]
     },
     "execution_count": 5,
     "metadata": {},
     "output_type": "execute_result"
    }
   ],
   "source": [
    "df['groups'].unique()"
   ]
  },
  {
   "cell_type": "markdown",
   "metadata": {},
   "source": [
    "**Понижение коэффициента surge, чтобы увеличить price-to-order конверсию (по время surge)**"
   ]
  },
  {
   "cell_type": "markdown",
   "metadata": {},
   "source": [
    "отфильтруем только заказы во время surge и разделим данные 2 датафрейма: контрольную и тестовую"
   ]
  },
  {
   "cell_type": "code",
   "execution_count": 6,
   "metadata": {},
   "outputs": [
    {
     "data": {
      "text/plain": [
       "14383"
      ]
     },
     "execution_count": 6,
     "metadata": {},
     "output_type": "execute_result"
    }
   ],
   "source": [
    "df_surge_control = df[(df['group'] == 'Control') & (df['surge'] == 'surge')]\n",
    "len(df_surge_control)"
   ]
  },
  {
   "cell_type": "code",
   "execution_count": 7,
   "metadata": {},
   "outputs": [
    {
     "data": {
      "text/plain": [
       "14383"
      ]
     },
     "execution_count": 7,
     "metadata": {},
     "output_type": "execute_result"
    }
   ],
   "source": [
    "df_surge_test = df[(df['group'] == 'Test') & (df['surge'] == 'surge')]\n",
    "len(df_surge_control)"
   ]
  },
  {
   "cell_type": "code",
   "execution_count": null,
   "metadata": {},
   "outputs": [],
   "source": [
    "используем тест Манна-Уитни, т.к. выборка имеет распределение Бернули."
   ]
  },
  {
   "cell_type": "code",
   "execution_count": 8,
   "metadata": {},
   "outputs": [
    {
     "name": "stdout",
     "output_type": "stream",
     "text": [
      "конверсия различается. statistic - 101469180.0 pvalue - 0.00085\n"
     ]
    }
   ],
   "source": [
    "result_mw = mannwhitneyu(df_surge_control['order_made'], df_surge_test['order_made'])\n",
    "alpha = 0.05\n",
    "if result_mw.pvalue < alpha and result_mw.statistic > 0:\n",
    "    print(f'конверсия различается. statistic - {result_mw.statistic} pvalue - {round(result_mw.pvalue, 5)}')\n",
    "else:\n",
    "    print(f'конверсия не различается. statistic - {result_mw.statistic} pvalue - {round(result_mw.pvalue, 5)}')"
   ]
  },
  {
   "cell_type": "code",
   "execution_count": null,
   "metadata": {},
   "outputs": [],
   "source": [
    "В целом, конверсия отличается у 2-х групп, и statistic показывает, что в тестовой группе конверсия выше."
   ]
  },
  {
   "cell_type": "markdown",
   "metadata": {},
   "source": [
    "Используя новые данные, постройте следующие графики для А/Б теста по любой из трех фичей выше (!сплит уже произведен!):\n",
    "\n",
    "Кумулятивного p-value (разбейте общее количество наблюдений на 7 участков)  \n",
    "Периодического p-value (по дням)"
   ]
  },
  {
   "cell_type": "markdown",
   "metadata": {},
   "source": [
    "**Кумулятивного p-value (разбейте общее количество наблюдений на 7 участков)**"
   ]
  },
  {
   "cell_type": "code",
   "execution_count": 9,
   "metadata": {},
   "outputs": [
    {
     "name": "stdout",
     "output_type": "stream",
     "text": [
      "конверсия не различается. statistic - 4408500.0 pvalue - 0.0537\n",
      "3000\n",
      "конверсия различается. statistic - 17634000.0 pvalue - 0.01139\n",
      "6000\n",
      "конверсия различается. statistic - 39676500.0 pvalue - 0.00265\n",
      "9000\n",
      "конверсия различается. statistic - 70536000.0 pvalue - 0.00064\n",
      "12000\n",
      "конверсия различается. statistic - 110212500.0 pvalue - 0.00016\n",
      "15000\n",
      "конверсия различается. statistic - 158706000.0 pvalue - 4e-05\n",
      "18000\n",
      "конверсия различается. statistic - 216016500.0 pvalue - 1e-05\n",
      "21000\n"
     ]
    }
   ],
   "source": [
    "df_sum_control = pd.DataFrame() # добавление данных в накопительный дф\n",
    "df_sum_test = pd.DataFrame()    # добавление данных в накопительный дф\n",
    "i = 0 # счетчик\n",
    "pvalue_per_day = [] # пустой список для накопления p_value\n",
    "while i < 7:\n",
    "    df_sample_control = df_surge_control.sample(n=3000, random_state=1)\n",
    "    df_sample_test = df_surge_test.sample(n=3000, random_state=1)\n",
    "    df_sum_control = pd.concat([df_sum_control, df_sample_control])\n",
    "    df_sum_test = pd.concat([df_sum_test, df_sample_test])\n",
    "    # тест\n",
    "    result_mw = mannwhitneyu(df_sum_control['order_made'], df_sum_test['order_made'])\n",
    "    alpha = 0.05\n",
    "    # добавление pvalue в список и преобразование в датафрейм\n",
    "    pvalue_per_day.append(result_mw.pvalue)\n",
    "    pd_pvalue_per_day = pd.DataFrame(pvalue_per_day, columns=['p_value'])\n",
    "    \n",
    "    i += 1\n",
    "    if result_mw.pvalue < alpha and result_mw.statistic > 0:\n",
    "        print(f'конверсия различается. statistic - {result_mw.statistic} pvalue - {round(result_mw.pvalue, 5)}')\n",
    "    else:\n",
    "        print(f'конверсия не различается. statistic - {result_mw.statistic} pvalue - {round(result_mw.pvalue, 5)}')\n",
    "    print(len(df_sum_control))"
   ]
  },
  {
   "cell_type": "code",
   "execution_count": 10,
   "metadata": {},
   "outputs": [
    {
     "data": {
      "text/plain": [
       "<matplotlib.axes._subplots.AxesSubplot at 0x4474305cc8>"
      ]
     },
     "execution_count": 10,
     "metadata": {},
     "output_type": "execute_result"
    },
    {
     "data": {
      "image/png": "[encoded data removed]",
      "text/plain": [
       "<Figure size 720x288 with 1 Axes>"
      ]
     },
     "metadata": {
      "needs_background": "light"
     },
     "output_type": "display_data"
    }
   ],
   "source": [
    "pd_pvalue_per_day.plot.bar(figsize=(10, 4))"
   ]
  },
  {
   "cell_type": "code",
   "execution_count": null,
   "metadata": {},
   "outputs": [],
   "source": [
    "В ходе проведения теста, по мере роста выборки, отличние 2-х групп увеличивается, т.е. конверсия растет."
   ]
  },
  {
   "cell_type": "code",
   "execution_count": null,
   "metadata": {},
   "outputs": [],
   "source": []
  },
  {
   "cell_type": "markdown",
   "metadata": {},
   "source": [
    "**Периодического p-value (по дням)**"
   ]
  },
  {
   "cell_type": "code",
   "execution_count": 11,
   "metadata": {},
   "outputs": [
    {
     "data": {
      "text/plain": [
       "array(['2020-05-28', '2020-05-29', '2020-05-25', '2020-05-31',\n",
       "       '2020-05-30', '2020-05-27', '2020-05-26'], dtype=object)"
      ]
     },
     "execution_count": 11,
     "metadata": {},
     "output_type": "execute_result"
    }
   ],
   "source": [
    "dates = df['date'].unique()\n",
    "dates"
   ]
  },
  {
   "cell_type": "code",
   "execution_count": 12,
   "metadata": {},
   "outputs": [
    {
     "name": "stdout",
     "output_type": "stream",
     "text": [
      "конверсия не различается. statistic - 1994197.5 pvalue - 0.09438\n",
      "конверсия не различается. statistic - 2090140.5 pvalue - 0.27504\n",
      "конверсия различается. statistic - 1980860.5 pvalue - 0.00096\n",
      "конверсия не различается. statistic - 2170108.5 pvalue - 0.29308\n",
      "конверсия различается. statistic - 2111160.5 pvalue - 0.02836\n",
      "конверсия не различается. statistic - 2098178.5 pvalue - 0.0571\n",
      "конверсия не различается. statistic - 2005643.5 pvalue - 0.23492\n"
     ]
    }
   ],
   "source": [
    "conv_per_day = []\n",
    "conv_dates = []\n",
    "\n",
    "for date in dates:\n",
    "    df_surge_control = df[(df['group'] == 'Control') & (df['surge'] == 'surge') & (df['date'] == date)]\n",
    "    df_surge_test = df[(df['group'] == 'Test') & (df['surge'] == 'surge') & (df['date'] == date)]\n",
    "    result_mw = mannwhitneyu(df_surge_control['order_made'], df_surge_test['order_made'])\n",
    "    alpha = 0.05\n",
    "    \n",
    "    conv_per_day.append(result_mw.pvalue)\n",
    "    pd_conv_per_day = pd.DataFrame(conv_per_day, columns=['p_value'])\n",
    "    conv_dates.append(date)\n",
    "    pd_conv_dates = pd.DataFrame(conv_dates, columns=['date'])\n",
    "    \n",
    "    if result_mw.pvalue < alpha and result_mw.statistic > 0:\n",
    "        print(f'конверсия различается. statistic - {result_mw.statistic} pvalue - {round(result_mw.pvalue, 5)}')\n",
    "    else:\n",
    "        print(f'конверсия не различается. statistic - {result_mw.statistic} pvalue - {round(result_mw.pvalue, 5)}')\n",
    "    \n",
    "    "
   ]
  },
  {
   "cell_type": "code",
   "execution_count": 13,
   "metadata": {},
   "outputs": [
    {
     "data": {
      "text/html": [
       "<div>\n",
       "<style scoped>\n",
       "    .dataframe tbody tr th:only-of-type {\n",
       "        vertical-align: middle;\n",
       "    }\n",
       "\n",
       "    .dataframe tbody tr th {\n",
       "        vertical-align: top;\n",
       "    }\n",
       "\n",
       "    .dataframe thead th {\n",
       "        text-align: right;\n",
       "    }\n",
       "</style>\n",
       "<table border=\"1\" class=\"dataframe\">\n",
       "  <thead>\n",
       "    <tr style=\"text-align: right;\">\n",
       "      <th></th>\n",
       "      <th>date</th>\n",
       "      <th>p_value</th>\n",
       "    </tr>\n",
       "  </thead>\n",
       "  <tbody>\n",
       "    <tr>\n",
       "      <th>2</th>\n",
       "      <td>2020-05-25</td>\n",
       "      <td>0.000958</td>\n",
       "    </tr>\n",
       "    <tr>\n",
       "      <th>6</th>\n",
       "      <td>2020-05-26</td>\n",
       "      <td>0.234919</td>\n",
       "    </tr>\n",
       "    <tr>\n",
       "      <th>5</th>\n",
       "      <td>2020-05-27</td>\n",
       "      <td>0.057105</td>\n",
       "    </tr>\n",
       "    <tr>\n",
       "      <th>0</th>\n",
       "      <td>2020-05-28</td>\n",
       "      <td>0.094376</td>\n",
       "    </tr>\n",
       "    <tr>\n",
       "      <th>1</th>\n",
       "      <td>2020-05-29</td>\n",
       "      <td>0.275036</td>\n",
       "    </tr>\n",
       "    <tr>\n",
       "      <th>4</th>\n",
       "      <td>2020-05-30</td>\n",
       "      <td>0.028363</td>\n",
       "    </tr>\n",
       "    <tr>\n",
       "      <th>3</th>\n",
       "      <td>2020-05-31</td>\n",
       "      <td>0.293083</td>\n",
       "    </tr>\n",
       "  </tbody>\n",
       "</table>\n",
       "</div>"
      ],
      "text/plain": [
       "         date   p_value\n",
       "2  2020-05-25  0.000958\n",
       "6  2020-05-26  0.234919\n",
       "5  2020-05-27  0.057105\n",
       "0  2020-05-28  0.094376\n",
       "1  2020-05-29  0.275036\n",
       "4  2020-05-30  0.028363\n",
       "3  2020-05-31  0.293083"
      ]
     },
     "execution_count": 13,
     "metadata": {},
     "output_type": "execute_result"
    }
   ],
   "source": [
    "df_stat_per_day = pd.concat([pd_conv_dates, pd_conv_per_day], axis=1).sort_values(by='date')\n",
    "df_stat_per_day"
   ]
  },
  {
   "cell_type": "code",
   "execution_count": 14,
   "metadata": {},
   "outputs": [
    {
     "data": {
      "text/plain": [
       "<matplotlib.axes._subplots.AxesSubplot at 0x4474d2f3c8>"
      ]
     },
     "execution_count": 14,
     "metadata": {},
     "output_type": "execute_result"
    },
    {
     "data": {
      "image/png": "[encoded data removed]",
      "text/plain": [
       "<Figure size 720x288 with 1 Axes>"
      ]
     },
     "metadata": {
      "needs_background": "light"
     },
     "output_type": "display_data"
    }
   ],
   "source": [
    "#df_stat_per_day.plot(kind='bar')\n",
    "df_stat_per_day.plot.bar(x='date', y='p_value', rot=0, figsize=(10, 4))"
   ]
  },
  {
   "cell_type": "code",
   "execution_count": null,
   "metadata": {},
   "outputs": [],
   "source": [
    "если смотреть подневное распределение p_value, то различия между группами менее явные, чем при проведении теста за весь период."
   ]
  }
 ],
 "metadata": {
  "kernelspec": {
   "display_name": "Python 3",
   "language": "python",
   "name": "python3"
  },
  "language_info": {
   "codemirror_mode": {
    "name": "ipython",
    "version": 3
   },
   "file_extension": ".py",
   "mimetype": "text/x-python",
   "name": "python",
   "nbconvert_exporter": "python",
   "pygments_lexer": "ipython3",
   "version": "3.7.6"
  }
 },
 "nbformat": 4,
 "nbformat_minor": 4
}
